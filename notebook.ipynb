{
 "cells": [
  {
   "cell_type": "code",
   "execution_count": 1,
   "metadata": {},
   "outputs": [],
   "source": [
    "from tabulate import tabulate\n",
    "import math"
   ]
  },
  {
   "cell_type": "code",
   "execution_count": null,
   "metadata": {},
   "outputs": [],
   "source": [
    "class User():\n",
    "    data_membership = {\n",
    "        'Sumbul': 'Platinum', \n",
    "        'Ana': 'Gold', \n",
    "        'Cahya': 'Platinum'\n",
    "    }\n",
    "\n",
    "    data_requirement = [\n",
    "        {\n",
    "            \"Membership\": \"Platinum\",\n",
    "            \"Expense\" : 8,\n",
    "            \"Income\" : 15\n",
    "        },\n",
    "        {\n",
    "            \"Membership\": \"Gold\",\n",
    "            \"Expense\" : 6,\n",
    "            \"Income\" : 10\n",
    "        },\n",
    "        {\n",
    "            \"Membership\": \"Silver\",\n",
    "            \"Expense\" : 5,\n",
    "            \"Income\" : 7\n",
    "        }\n",
    "    ]\n",
    "\n",
    "    data_membership = [\n",
    "        {\n",
    "            \"Membership\": \"Platinum\",\n",
    "            \"Discount\": '15%',\n",
    "            \"Another Benefit\": \"Benefit Silver + Gold + Voucher Liburan + Cashback max. 30%\"\n",
    "        },\n",
    "        {\n",
    "            \"Membership\": \"Gold\",\n",
    "            \"Discount\": '10%',\n",
    "            \"Another Benefit\": \"Benefit Silver + Voucher Ojek Online\"\n",
    "        },\n",
    "        {\n",
    "            \"Membership\": \"Silver\",\n",
    "            \"Discount\": '8%',\n",
    "            \"Another Benefit\": \"Voucher Makanan\"\n",
    "        }\n",
    "    ]\n",
    "\n",
    "    headers_requirement = list(x for x in data_requirement[0].keys())\n",
    "    content_requirement = list(list(x.values()) for x in data_requirement)\n",
    "\n",
    "    def __init__(self, username, membership = None):\n",
    "        self.username = username \n",
    "        self.membership = membership\n",
    "\n",
    "\n",
    "    def show_benefit(self):\n",
    "        \"\"\" \n",
    "        Fungsi ini untuk menampilkan seluruh benefit untuk tiap tier Membership \n",
    "        \"\"\"\n",
    "\n",
    "        benefit = [\n",
    "            [\"Platinum\", \"15%\", \"Benefit Gold + Silver + Cashback max. 30%\"],\n",
    "            [\"Gold\", \"10%\", \"Benefit Silver + Voucher Ojek Online\"],\n",
    "            [\"Silver\", \"8%\", \"Voucher Makanan\"],\n",
    "        ]\n",
    "\n",
    "        benefit_headers = [\"Membership\", \"Discount\", \"Another Benefit\"]\n",
    "\n",
    "        print('Paccommerce Membership Benefit\\n')\n",
    "        print(tabulate(benefit,benefit_headers,tablefmt ='fancy_grid',stralign = 'center'))\n",
    "\n",
    "    def show_requirements(self):\n",
    "        \"\"\"\n",
    "        Fungsi ini digunakan untuk mencetak requirement untuk mencapai benefit tier tertentu\n",
    "\n",
    "        input: None\n",
    "        \"\"\"\n",
    "        print(\"Detail requirement based on membership tier\")\n",
    "        print(\"\")\n",
    "        table = tabulate(self.content_requirement, headers=self.headers_requirement,tablefmt='simple')\n",
    "        print(table)\n",
    "\n",
    "    def predict_membership(self, expense,income):\n",
    "        \"\"\"\n",
    "        Fungsi ini bertujuan untuk predict customer membership tier berdasar their income and expense\n",
    "\n",
    "        Parameters\n",
    "        ----------\n",
    "\n",
    "        username: str\n",
    "            parameter untuk input nilai username\n",
    "        expense: int\n",
    "            parameter untuk input nilai pengeluaran bulana\n",
    "        income: int\n",
    "            parameter untuk input nilai pendapatan bulana\n",
    "        \"\"\"\n",
    "        # self.username = username\n",
    "        self.income = income\n",
    "        self.expense = expense\n",
    "\n",
    "        r = 0\n",
    "        final_result = []\n",
    "        for i in self.__class__.data_requirement:\n",
    "            expense_threshold = i['Expense']\n",
    "            income_threshold = i['Income']\n",
    "            r = ((expense_threshold - self.expense)**2 + (income_threshold - self.income)**2)**0.5\n",
    "\n",
    "            result = {i['Membership']: r}\n",
    "            final_result.append(result)\n",
    "\n",
    "        # self.membership = None\n",
    "\n",
    "        init_val = 100\n",
    "        for i in final_result:\n",
    "            value = list(i.values())[0] # ngambil dari dictionary -- convert ke list (isinya 1 nilai doang) -- kemudian ambil yang ke 0\n",
    "            key = list(i.keys())[0] # ngambil dari dictionary -- convert ke list (isinya 1 nilai doang) -- kemudian ambil yang ke 0\n",
    "            if init_val > value:\n",
    "                self.membership = key\n",
    "                init_val = value\n",
    "            else:\n",
    "                pass\n",
    "        \n",
    "        return self.membership\n",
    "\n",
    "\n",
    "    def calculate_price(self, membership, list_harga_barang):\n",
    "        # self.membership = membership\n",
    "        for data in self.__class__.data_membership:\n",
    "            if data['Membership'] == membership:\n",
    "                if type(data['Discount']) == str:\n",
    "                    data['Discount'] = float(data['Discount'].replace(\"%\",\"\")) / 100\n",
    "                total_harga = sum(list_harga_barang) * (1-data['Discount'])\n",
    "        \n",
    "\n",
    "        print(total_harga)"
   ]
  },
  {
   "cell_type": "code",
   "execution_count": 188,
   "metadata": {},
   "outputs": [],
   "source": [
    "fathul = User(\"Fathul\")\n",
    "arya = User(\"Arya\")"
   ]
  },
  {
   "cell_type": "code",
   "execution_count": null,
   "metadata": {},
   "outputs": [
    {
     "data": {
      "text/plain": [
       "[{'Membership': 'Platinum',\n",
       "  'Discount': '15%',\n",
       "  'Another Benefit': 'Benefit Silver + Gold + Voucher Liburan + Cashback max. 30%'},\n",
       " {'Membership': 'Gold',\n",
       "  'Discount': '10%',\n",
       "  'Another Benefit': 'Benefit Silver + Voucher Ojek Online'},\n",
       " {'Membership': 'Silver',\n",
       "  'Discount': '8%',\n",
       "  'Another Benefit': 'Voucher Makanan'}]"
      ]
     },
     "execution_count": 189,
     "metadata": {},
     "output_type": "execute_result"
    }
   ],
   "source": []
  },
  {
   "cell_type": "code",
   "execution_count": 184,
   "metadata": {},
   "outputs": [
    {
     "name": "stdout",
     "output_type": "stream",
     "text": [
      "Silver\n"
     ]
    }
   ],
   "source": [
    "member_fathul = fathul.predict_membership(3, 5)\n",
    "print(member_fathul)"
   ]
  },
  {
   "cell_type": "code",
   "execution_count": 185,
   "metadata": {},
   "outputs": [
    {
     "name": "stdout",
     "output_type": "stream",
     "text": [
      "34.04\n"
     ]
    }
   ],
   "source": [
    "fathul.calculate_price(member_fathul, [10, 5, 3, 9, 10])"
   ]
  },
  {
   "cell_type": "code",
   "execution_count": 52,
   "metadata": {},
   "outputs": [
    {
     "data": {
      "text/plain": [
       "{'Sumbul': 'Platinum', 'Ana': 'Gold', 'Cahya': 'Platinum'}"
      ]
     },
     "execution_count": 52,
     "metadata": {},
     "output_type": "execute_result"
    }
   ],
   "source": [
    "fathul.data_membership"
   ]
  },
  {
   "cell_type": "code",
   "execution_count": 53,
   "metadata": {},
   "outputs": [
    {
     "data": {
      "text/plain": [
       "{'Sumbul': 'Platinum', 'Ana': 'Gold', 'Cahya': 'Platinum'}"
      ]
     },
     "execution_count": 53,
     "metadata": {},
     "output_type": "execute_result"
    }
   ],
   "source": [
    "arya.data_membership"
   ]
  },
  {
   "cell_type": "code",
   "execution_count": 54,
   "metadata": {},
   "outputs": [
    {
     "name": "stdout",
     "output_type": "stream",
     "text": [
      "Username: Fathul\n"
     ]
    }
   ],
   "source": [
    "print(f'Username: {fathul.username}')\n",
    "# print(f'Monthly Expense: {fathul.monthly_expense}')\n",
    "# print(f'Monthly Income: {fathul.monthly_income}')"
   ]
  },
  {
   "cell_type": "code",
   "execution_count": 55,
   "metadata": {},
   "outputs": [
    {
     "name": "stdout",
     "output_type": "stream",
     "text": [
      "Paccommerce Membership Benefit\n",
      "\n",
      "╒══════════════╤════════════╤═══════════════════════════════════════════╕\n",
      "│  Membership  │  Discount  │              Another Benefit              │\n",
      "╞══════════════╪════════════╪═══════════════════════════════════════════╡\n",
      "│   Platinum   │    15%     │ Benefit Gold + Silver + Cashback max. 30% │\n",
      "├──────────────┼────────────┼───────────────────────────────────────────┤\n",
      "│     Gold     │    10%     │   Benefit Silver + Voucher Ojek Online    │\n",
      "├──────────────┼────────────┼───────────────────────────────────────────┤\n",
      "│    Silver    │     8%     │              Voucher Makanan              │\n",
      "╘══════════════╧════════════╧═══════════════════════════════════════════╛\n"
     ]
    }
   ],
   "source": [
    "fathul.show_benefit()"
   ]
  },
  {
   "cell_type": "code",
   "execution_count": 56,
   "metadata": {},
   "outputs": [
    {
     "name": "stdout",
     "output_type": "stream",
     "text": [
      "Detail requirement based on membership tier\n",
      "\n",
      "Membership      Expense    Income\n",
      "------------  ---------  --------\n",
      "Platinum              8        15\n",
      "Gold                  6        10\n",
      "Silver                5         7\n"
     ]
    }
   ],
   "source": [
    "arya.show_requirements()"
   ]
  },
  {
   "cell_type": "markdown",
   "metadata": {},
   "source": []
  },
  {
   "cell_type": "code",
   "execution_count": null,
   "metadata": {},
   "outputs": [],
   "source": [
    "fathul.predict_membership(3, 10)"
   ]
  },
  {
   "cell_type": "code",
   "execution_count": 72,
   "metadata": {},
   "outputs": [],
   "source": [
    "class Test:\n",
    "    name = \"Rozie\"\n",
    "    atribute = 'global'\n",
    "\n",
    "    def __init__(self, name):\n",
    "        self.name = name\n",
    "    \n",
    "    def method(self):\n",
    "        self.atribute = 'local'"
   ]
  },
  {
   "cell_type": "code",
   "execution_count": 73,
   "metadata": {},
   "outputs": [],
   "source": [
    "obj = Test(\"Fathul\")"
   ]
  },
  {
   "cell_type": "code",
   "execution_count": 74,
   "metadata": {},
   "outputs": [
    {
     "data": {
      "text/plain": [
       "'Fathul'"
      ]
     },
     "execution_count": 74,
     "metadata": {},
     "output_type": "execute_result"
    }
   ],
   "source": [
    "obj.name"
   ]
  },
  {
   "cell_type": "code",
   "execution_count": 76,
   "metadata": {},
   "outputs": [
    {
     "data": {
      "text/plain": [
       "'global'"
      ]
     },
     "execution_count": 76,
     "metadata": {},
     "output_type": "execute_result"
    }
   ],
   "source": [
    "obj.atribute"
   ]
  },
  {
   "cell_type": "code",
   "execution_count": 77,
   "metadata": {},
   "outputs": [],
   "source": [
    "obj.method()"
   ]
  },
  {
   "cell_type": "code",
   "execution_count": 82,
   "metadata": {},
   "outputs": [
    {
     "data": {
      "text/plain": [
       "'local'"
      ]
     },
     "execution_count": 82,
     "metadata": {},
     "output_type": "execute_result"
    }
   ],
   "source": [
    "obj.atribute"
   ]
  },
  {
   "cell_type": "code",
   "execution_count": 85,
   "metadata": {},
   "outputs": [],
   "source": [
    "data = {'Platinum':10, 'Gold':5, 'Silver': 15}"
   ]
  },
  {
   "cell_type": "code",
   "execution_count": null,
   "metadata": {},
   "outputs": [
    {
     "name": "stdout",
     "output_type": "stream",
     "text": [
      "Gold\n"
     ]
    }
   ],
   "source": [
    "min(data.values())\n",
    "\n",
    "for member in data.items():\n",
    "    if member[1] == min(data.values()):\n",
    "        print(member[0])"
   ]
  }
 ],
 "metadata": {
  "kernelspec": {
   "display_name": ".venv",
   "language": "python",
   "name": "python3"
  },
  "language_info": {
   "codemirror_mode": {
    "name": "ipython",
    "version": 3
   },
   "file_extension": ".py",
   "mimetype": "text/x-python",
   "name": "python",
   "nbconvert_exporter": "python",
   "pygments_lexer": "ipython3",
   "version": "3.13.0"
  }
 },
 "nbformat": 4,
 "nbformat_minor": 2
}
